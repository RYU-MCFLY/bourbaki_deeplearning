{
  "nbformat": 4,
  "nbformat_minor": 0,
  "metadata": {
    "colab": {
      "name": "Intro to Pytorch MLP v2.ipynb",
      "provenance": [],
      "collapsed_sections": [],
      "mount_file_id": "1pP7KP7Oymqc3VLWU_Xaxi5t4sqhXeSrC",
      "authorship_tag": "ABX9TyMIep48slZkNsL5qRZKQhtK",
      "include_colab_link": true
    },
    "kernelspec": {
      "name": "python3",
      "display_name": "Python 3"
    },
    "language_info": {
      "name": "python"
    },
    "accelerator": "GPU"
  },
  "cells": [
    {
      "cell_type": "markdown",
      "metadata": {
        "id": "view-in-github",
        "colab_type": "text"
      },
      "source": [
        "<a href=\"https://colab.research.google.com/github/tozanni/bourbaki_deeplearning/blob/main/Intro_to_Pytorch_MLP_v2.ipynb\" target=\"_parent\"><img src=\"https://colab.research.google.com/assets/colab-badge.svg\" alt=\"Open In Colab\"/></a>"
      ]
    },
    {
      "cell_type": "markdown",
      "metadata": {
        "id": "59Ms2YkNYgdc"
      },
      "source": [
        "## Introducción a Pytorch y MLP\n",
        "\n",
        "## II. Perceptron multicapa\n",
        "\n",
        "OJO: Este notebook se debe correr con backend de GPU."
      ]
    },
    {
      "cell_type": "markdown",
      "metadata": {
        "id": "mnFkazonf-yP"
      },
      "source": [
        "### 1. Definición del DataSet\n"
      ]
    },
    {
      "cell_type": "code",
      "metadata": {
        "id": "BACzvwE6uAiP"
      },
      "source": [
        "import numpy as np \n",
        "import pandas as pd\n",
        "import os\n",
        "import torch\n",
        "import torch.nn as nn\n",
        "\n",
        "from skimage import io, transform\n",
        "\n",
        "import torchvision\n",
        "import torch.nn.functional as F\n",
        "from torchvision import transforms, utils, datasets\n",
        "\n",
        "import matplotlib.pyplot as plt\n",
        "import time\n",
        "from torch.utils.data import Dataset, DataLoader\n"
      ],
      "execution_count": null,
      "outputs": []
    },
    {
      "cell_type": "markdown",
      "metadata": {
        "id": "C_denLYNkk_X"
      },
      "source": [
        "Como veremos un poco después, este modelo puede crecer rápidamente de tamaño, por lo cual, nos veremos beneficiados de utilizar el GPU. "
      ]
    },
    {
      "cell_type": "code",
      "metadata": {
        "colab": {
          "base_uri": "https://localhost:8080/"
        },
        "id": "3bKlTEBE39j6",
        "outputId": "96cf74fc-c5c2-460f-cfa0-be71cb0e4e4c"
      },
      "source": [
        "device = torch.device('cuda' if torch.cuda.is_available() else 'cpu')\n",
        "device"
      ],
      "execution_count": null,
      "outputs": [
        {
          "output_type": "execute_result",
          "data": {
            "text/plain": [
              "device(type='cuda')"
            ]
          },
          "metadata": {
            "tags": []
          },
          "execution_count": 2
        }
      ]
    },
    {
      "cell_type": "code",
      "metadata": {
        "id": "1n9OXJ9KA6Yz"
      },
      "source": [
        "# https://pytorch.org/vision/stable/transforms.html\n",
        "\n",
        "# ToPILImage(): Necesaria para poder aplicar transformaciones de torchvision\n",
        "# Grayscale, reduce la cantidad de canales\n",
        "# Resize: Reduce la dimension \n",
        "# ToTensor: Tensor PIL Image or numpy.ndarray (H x W x C) in the range [0, 255] to a torch.FloatTensor of shape (C x H x W)\n",
        "\n",
        "transform = transforms.Compose([\n",
        "        #transforms.ToPILImage(),\n",
        "        transforms.Grayscale ( num_output_channels=1 ),\n",
        "        transforms.Resize(260),\n",
        "        transforms.ToTensor(),\n",
        "        transforms.Normalize(mean=[0.3451],std=[0.1683])\n",
        "        ])\n",
        "\n",
        "train_data = datasets.ImageFolder('/content/drive/MyDrive/CarpetaImagenes/train/', transform=transform)\n",
        "val_data = datasets.ImageFolder('/content/drive/MyDrive/CarpetaImagenes/val/', transform=transform)\n",
        "test_data = datasets.ImageFolder('/content/drive/MyDrive/CarpetaImagenes/test/', transform=transform)\n",
        "\n",
        "dataloaders = {\n",
        "    'train': DataLoader(train_data, batch_size=64, shuffle=True, num_workers=2),\n",
        "    'val': DataLoader(val_data, batch_size=64, shuffle=True, num_workers=2),\n",
        "    'test': DataLoader(test_data, batch_size=64, shuffle=True, num_workers=2)\n",
        "}\n"
      ],
      "execution_count": null,
      "outputs": []
    },
    {
      "cell_type": "markdown",
      "metadata": {
        "id": "kWKXoHqEmE27"
      },
      "source": [
        "Ahora vamos a ejecutar el dataloader, imprimir la primera imagen. ¿Qué veremos? \n"
      ]
    },
    {
      "cell_type": "code",
      "metadata": {
        "id": "iUzt0W02gAhQ"
      },
      "source": [
        "#Ejercicio, probar con algunos de los siguientes flags\n",
        "\n",
        "#Obtener la primera imagen con iterador\n",
        "dataiter = iter(dataloaders['train'])\n",
        "data, label = dataiter.next()\n",
        "\n",
        "# El shape indica (num_rows, num_cols, num_channels)\n",
        "# Color\n",
        "# torch.Size([1, 260, 260, 3])\n",
        "\n",
        "# Grayscale\n",
        "# torch.Size([1, 260, 260])"
      ],
      "execution_count": null,
      "outputs": []
    },
    {
      "cell_type": "code",
      "metadata": {
        "colab": {
          "base_uri": "https://localhost:8080/"
        },
        "id": "TYB9oHWhrt5f",
        "outputId": "88b46392-fcd4-4fc0-b5bc-279ec49876a0"
      },
      "source": [
        "data, data.shape"
      ],
      "execution_count": null,
      "outputs": [
        {
          "output_type": "execute_result",
          "data": {
            "text/plain": [
              "(tensor([[[[-1.3515, -1.3515, -1.3515,  ..., -1.3515, -1.3515, -1.3515],\n",
              "           [-1.3515, -1.3515, -1.3515,  ..., -1.3515, -1.3515, -1.3515],\n",
              "           [-1.3515, -1.3515, -1.3515,  ..., -1.3515, -1.3515, -1.3515],\n",
              "           ...,\n",
              "           [-1.3515, -1.3515, -1.3515,  ..., -1.3515, -1.3515, -1.3515],\n",
              "           [-1.3515, -1.3515, -1.3515,  ..., -1.3515, -1.3515, -1.3515],\n",
              "           [-1.3515, -1.3515, -1.3515,  ..., -1.3515, -1.3515, -1.3515]]],\n",
              " \n",
              " \n",
              "         [[[-1.3515, -1.3515, -1.3515,  ..., -1.3515, -1.3515, -1.3515],\n",
              "           [-1.3515, -1.3515, -1.3515,  ..., -1.3515, -1.3515, -1.3515],\n",
              "           [-1.3515, -1.3515, -1.3515,  ..., -1.3515, -1.3515, -1.3515],\n",
              "           ...,\n",
              "           [-1.3515, -1.3515, -1.3515,  ..., -1.3515, -1.3515, -1.3515],\n",
              "           [-1.3515, -1.3515, -1.3515,  ..., -1.3515, -1.3515, -1.3515],\n",
              "           [-1.3515, -1.3515, -1.3515,  ..., -1.3515, -1.3515, -1.3515]]],\n",
              " \n",
              " \n",
              "         [[[-1.3515, -1.3515, -1.3515,  ..., -1.3515, -1.3515, -1.3515],\n",
              "           [-1.3515, -1.3515, -1.3515,  ..., -1.3515, -1.3515, -1.3515],\n",
              "           [-1.3515, -1.3515, -1.3515,  ..., -1.3515, -1.3515, -1.3515],\n",
              "           ...,\n",
              "           [-1.3515, -1.3515, -1.3515,  ..., -1.3515, -1.3515, -1.3515],\n",
              "           [-1.3515, -1.3515, -1.3515,  ..., -1.3515, -1.3515, -1.3515],\n",
              "           [-1.3515, -1.3515, -1.3515,  ..., -1.3515, -1.3515, -1.3515]]],\n",
              " \n",
              " \n",
              "         ...,\n",
              " \n",
              " \n",
              "         [[[-1.3515, -1.3515, -1.3515,  ..., -1.3515, -1.3515, -1.3515],\n",
              "           [-1.3515, -1.3515, -1.3515,  ..., -1.3515, -1.3515, -1.3515],\n",
              "           [-1.3515, -1.3515, -1.3515,  ..., -1.3515, -1.3515, -1.3515],\n",
              "           ...,\n",
              "           [-1.3515, -1.3515, -1.3515,  ..., -1.3515, -1.3515, -1.3515],\n",
              "           [-1.3515, -1.3515, -1.3515,  ..., -1.3515, -1.3515, -1.3515],\n",
              "           [-1.3515, -1.3515, -1.3515,  ..., -1.3515, -1.3515, -1.3515]]],\n",
              " \n",
              " \n",
              "         [[[-1.3515, -1.3515, -1.3515,  ..., -1.3515, -1.3515, -1.3515],\n",
              "           [-1.3515, -1.3515, -1.3515,  ..., -1.3515, -1.3515, -1.3515],\n",
              "           [-1.3515, -1.3515, -1.3515,  ..., -1.3515, -1.3515, -1.3515],\n",
              "           ...,\n",
              "           [-1.3515, -1.3515, -1.3515,  ..., -1.3515, -1.3515, -1.3515],\n",
              "           [-1.3515, -1.3515, -1.3515,  ..., -1.3515, -1.3515, -1.3515],\n",
              "           [-1.3515, -1.3515, -1.3515,  ..., -1.3515, -1.3515, -1.3515]]],\n",
              " \n",
              " \n",
              "         [[[-1.3515, -1.3515, -1.3515,  ..., -1.3515, -1.3515, -1.3515],\n",
              "           [-1.3515, -1.3515, -1.3515,  ..., -1.3515, -1.3515, -1.3515],\n",
              "           [-1.3515, -1.3515, -1.3515,  ..., -1.3515, -1.3515, -1.3515],\n",
              "           ...,\n",
              "           [-1.3515, -1.3515, -1.3515,  ..., -1.3515, -1.3515, -1.3515],\n",
              "           [-1.3515, -1.3515, -1.3515,  ..., -1.3515, -1.3515, -1.3515],\n",
              "           [-1.3515, -1.3515, -1.3515,  ..., -1.3515, -1.3515, -1.3515]]]]),\n",
              " torch.Size([64, 1, 260, 260]))"
            ]
          },
          "metadata": {
            "tags": []
          },
          "execution_count": 5
        }
      ]
    },
    {
      "cell_type": "code",
      "metadata": {
        "colab": {
          "base_uri": "https://localhost:8080/",
          "height": 286
        },
        "id": "jZLEPniNtfcE",
        "outputId": "8b54c8a1-b903-4086-e91d-ca4c427ac999"
      },
      "source": [
        "plt.imshow(data[0][0], cmap='gray')"
      ],
      "execution_count": null,
      "outputs": [
        {
          "output_type": "execute_result",
          "data": {
            "text/plain": [
              "<matplotlib.image.AxesImage at 0x7f1f77cd0990>"
            ]
          },
          "metadata": {
            "tags": []
          },
          "execution_count": 6
        },
        {
          "output_type": "display_data",
          "data": {
            "image/png": "[encoded data removed]",
            "text/plain": [
              "<Figure size 432x288 with 1 Axes>"
            ]
          },
          "metadata": {
            "tags": [],
            "needs_background": "light"
          }
        }
      ]
    },
    {
      "cell_type": "markdown",
      "metadata": {
        "id": "E5qgOjDPjvm3"
      },
      "source": [
        ""
      ]
    },
    {
      "cell_type": "markdown",
      "metadata": {
        "id": "LPwKSwMkNuuS"
      },
      "source": [
        "### 2. Perceptron multicapa\n",
        "\n",
        "Adicional a la capa de entrada que es una función del tamaño de nuestras imágenes, agregaremos una capa intermedia de 512 unidades. \n",
        "\n",
        "La función de activación en ambos casos será la transformación lineal de los pesos mediante suma ponderada.\n",
        "\n",
        "\n",
        "$$ y = xW^T + b $$\n",
        "\n",
        "\n",
        "Ejercicio: Probar otras funciones de activación en la capa intermedia. Variar la arquitectura de la red. \n"
      ]
    },
    {
      "cell_type": "code",
      "metadata": {
        "id": "dWo06PxINxw8",
        "colab": {
          "base_uri": "https://localhost:8080/",
          "height": 230
        },
        "outputId": "ec10e3a2-24b6-400d-b2f6-94012eaf0ff5"
      },
      "source": [
        "import torch.nn as nn\n",
        "import torch.nn.functional as F\n",
        "\n",
        "class MLP(nn.Module):\n",
        "    def __init__(self):\n",
        "        super(MLP,self).__init__()\n",
        "        self.input_fc = nn.Linear(260*260, 512)\n",
        "        self.output = nn.Linear(512,1)\n",
        "    \n",
        "    def forward(self,x):\n",
        "        # Aplanar la representacion\n",
        "        x = x.view(-1,260*260)\n",
        "\n",
        "        #Activacion sigmoidal en la capa intermedia\n",
        "        h_1 = torch.sigmoid(self.input_fc(x))\n",
        "\n",
        "        #Activacion lineal en la capa final\n",
        "        y_pred = self.output(h_1)\n",
        "        return y_pred\n",
        "\n",
        "model = MLP()\n",
        "\n",
        "# Correr en GPU si esta disponible\n",
        "model.to(device)\n",
        "\n",
        "print(model)"
      ],
      "execution_count": null,
      "outputs": [
        {
          "output_type": "error",
          "ename": "NameError",
          "evalue": "ignored",
          "traceback": [
            "\u001b[0;31m---------------------------------------------------------------------------\u001b[0m",
            "\u001b[0;31mNameError\u001b[0m                                 Traceback (most recent call last)",
            "\u001b[0;32m<ipython-input-1-7c0719b5f093>\u001b[0m in \u001b[0;36m<module>\u001b[0;34m()\u001b[0m\n\u001b[1;32m     22\u001b[0m \u001b[0;34m\u001b[0m\u001b[0m\n\u001b[1;32m     23\u001b[0m \u001b[0;31m# Correr en GPU si esta disponible\u001b[0m\u001b[0;34m\u001b[0m\u001b[0;34m\u001b[0m\u001b[0;34m\u001b[0m\u001b[0m\n\u001b[0;32m---> 24\u001b[0;31m \u001b[0mmodel\u001b[0m\u001b[0;34m.\u001b[0m\u001b[0mto\u001b[0m\u001b[0;34m(\u001b[0m\u001b[0mdevice\u001b[0m\u001b[0;34m)\u001b[0m\u001b[0;34m\u001b[0m\u001b[0;34m\u001b[0m\u001b[0m\n\u001b[0m\u001b[1;32m     25\u001b[0m \u001b[0;34m\u001b[0m\u001b[0m\n\u001b[1;32m     26\u001b[0m \u001b[0mprint\u001b[0m\u001b[0;34m(\u001b[0m\u001b[0mmodel\u001b[0m\u001b[0;34m)\u001b[0m\u001b[0;34m\u001b[0m\u001b[0;34m\u001b[0m\u001b[0m\n",
            "\u001b[0;31mNameError\u001b[0m: name 'device' is not defined"
          ]
        }
      ]
    },
    {
      "cell_type": "markdown",
      "metadata": {
        "id": "phj-7yNvsURt"
      },
      "source": [
        "## 3. Funcion de perdida"
      ]
    },
    {
      "cell_type": "code",
      "metadata": {
        "id": "mN54fJj7OIdr"
      },
      "source": [
        "# criterion = nn.CrossEntropyLoss()\n",
        "# criterion = nn.BCELoss()\n",
        "# https://pytorch.org/docs/stable/generated/torch.nn.BCEWithLogitsLoss.html\n",
        "\n",
        "# TODO: Implementar pesos diferenciados por clase, ya que pos_weight=None\n",
        "\n",
        "criterion = nn.BCEWithLogitsLoss()\n",
        "\n",
        "# specify optimizer (stochastic gradient descent) and learning rate = 0.01\n",
        "optimizer = torch.optim.SGD(model.parameters(),lr = 0.01)"
      ],
      "execution_count": null,
      "outputs": []
    },
    {
      "cell_type": "markdown",
      "metadata": {
        "id": "z0Kcc0BqvyOm"
      },
      "source": [
        "### Ejecucion manual del paso de entrenamiento\n",
        "\n",
        "Este proceso nos sirve para validar que el output de la red sea compatible con el input requerido por la funcion de perdida. \n",
        "\n",
        "Si estamos usando una perdida binaria vs. multi clase.  Si requiere el input en un cierto rango, etc. y la forma del tensor.\n"
      ]
    },
    {
      "cell_type": "code",
      "metadata": {
        "id": "zSJGdZ1eE5hU"
      },
      "source": [
        "dataiter = iter(dataloaders['train'])\n",
        "data, label = dataiter.next()\n",
        "\n",
        "data, label = data.to(device), label.to(device)\n"
      ],
      "execution_count": null,
      "outputs": []
    },
    {
      "cell_type": "code",
      "metadata": {
        "colab": {
          "base_uri": "https://localhost:8080/"
        },
        "id": "LA7mrKsvtoVk",
        "outputId": "d2142a2e-4fec-4db8-824d-a6578f938c35"
      },
      "source": [
        "model.train() # prep model for training\n",
        "optimizer.zero_grad()\n",
        "output = model(data)\n",
        "output"
      ],
      "execution_count": null,
      "outputs": [
        {
          "output_type": "execute_result",
          "data": {
            "text/plain": [
              "tensor([[-0.5042],\n",
              "        [-0.5185],\n",
              "        [-0.6231],\n",
              "        [-0.4682],\n",
              "        [-0.5487],\n",
              "        [-0.5485],\n",
              "        [-0.5437],\n",
              "        [-0.6476],\n",
              "        [-0.4679],\n",
              "        [-0.5150],\n",
              "        [-0.5599],\n",
              "        [-0.5550],\n",
              "        [-0.6032],\n",
              "        [-0.4939],\n",
              "        [-0.4429],\n",
              "        [-0.5932],\n",
              "        [-0.5441],\n",
              "        [-0.6043],\n",
              "        [-0.4810],\n",
              "        [-0.5777],\n",
              "        [-0.4931],\n",
              "        [-0.5547],\n",
              "        [-0.6301],\n",
              "        [-0.5188],\n",
              "        [-0.5491],\n",
              "        [-0.5605],\n",
              "        [-0.5084],\n",
              "        [-0.5415],\n",
              "        [-0.4810],\n",
              "        [-0.5626],\n",
              "        [-0.5250],\n",
              "        [-0.4989],\n",
              "        [-0.5991],\n",
              "        [-0.5136],\n",
              "        [-0.5631],\n",
              "        [-0.5633],\n",
              "        [-0.5573],\n",
              "        [-0.4706],\n",
              "        [-0.5098],\n",
              "        [-0.6166],\n",
              "        [-0.5561],\n",
              "        [-0.6084],\n",
              "        [-0.5491],\n",
              "        [-0.5212],\n",
              "        [-0.5977],\n",
              "        [-0.5242],\n",
              "        [-0.6015],\n",
              "        [-0.5948],\n",
              "        [-0.5496],\n",
              "        [-0.5341],\n",
              "        [-0.5166],\n",
              "        [-0.5367],\n",
              "        [-0.5575],\n",
              "        [-0.5322],\n",
              "        [-0.5409],\n",
              "        [-0.5946],\n",
              "        [-0.5469],\n",
              "        [-0.5292],\n",
              "        [-0.5268],\n",
              "        [-0.5745],\n",
              "        [-0.5194],\n",
              "        [-0.5118],\n",
              "        [-0.4950],\n",
              "        [-0.5766]], device='cuda:0', grad_fn=<AddmmBackward>)"
            ]
          },
          "metadata": {
            "tags": []
          },
          "execution_count": 10
        }
      ]
    },
    {
      "cell_type": "code",
      "metadata": {
        "colab": {
          "base_uri": "https://localhost:8080/"
        },
        "id": "ce9RFbT12Mnx",
        "outputId": "3f26ce3f-714f-412d-bc68-dc13aa801880"
      },
      "source": [
        "# Para ver el resultado como probabilidad (de la clase 1)\n",
        "\n",
        "torch.sigmoid(output)"
      ],
      "execution_count": null,
      "outputs": [
        {
          "output_type": "execute_result",
          "data": {
            "text/plain": [
              "tensor([[0.3766],\n",
              "        [0.3732],\n",
              "        [0.3491],\n",
              "        [0.3851],\n",
              "        [0.3662],\n",
              "        [0.3662],\n",
              "        [0.3673],\n",
              "        [0.3435],\n",
              "        [0.3851],\n",
              "        [0.3740],\n",
              "        [0.3636],\n",
              "        [0.3647],\n",
              "        [0.3536],\n",
              "        [0.3790],\n",
              "        [0.3911],\n",
              "        [0.3559],\n",
              "        [0.3672],\n",
              "        [0.3534],\n",
              "        [0.3820],\n",
              "        [0.3595],\n",
              "        [0.3792],\n",
              "        [0.3648],\n",
              "        [0.3475],\n",
              "        [0.3731],\n",
              "        [0.3661],\n",
              "        [0.3634],\n",
              "        [0.3756],\n",
              "        [0.3678],\n",
              "        [0.3820],\n",
              "        [0.3630],\n",
              "        [0.3717],\n",
              "        [0.3778],\n",
              "        [0.3546],\n",
              "        [0.3744],\n",
              "        [0.3628],\n",
              "        [0.3628],\n",
              "        [0.3642],\n",
              "        [0.3845],\n",
              "        [0.3752],\n",
              "        [0.3505],\n",
              "        [0.3645],\n",
              "        [0.3524],\n",
              "        [0.3661],\n",
              "        [0.3726],\n",
              "        [0.3549],\n",
              "        [0.3719],\n",
              "        [0.3540],\n",
              "        [0.3555],\n",
              "        [0.3660],\n",
              "        [0.3696],\n",
              "        [0.3737],\n",
              "        [0.3690],\n",
              "        [0.3641],\n",
              "        [0.3700],\n",
              "        [0.3680],\n",
              "        [0.3556],\n",
              "        [0.3666],\n",
              "        [0.3707],\n",
              "        [0.3713],\n",
              "        [0.3602],\n",
              "        [0.3730],\n",
              "        [0.3748],\n",
              "        [0.3787],\n",
              "        [0.3597]], device='cuda:0', grad_fn=<SigmoidBackward>)"
            ]
          },
          "metadata": {
            "tags": []
          },
          "execution_count": 11
        }
      ]
    },
    {
      "cell_type": "code",
      "metadata": {
        "colab": {
          "base_uri": "https://localhost:8080/"
        },
        "id": "BGMtpbud2VBx",
        "outputId": "a7190d89-cece-41a4-945f-d5fb310b295e"
      },
      "source": [
        "# Para ver el resultado como etiqueta\n",
        "torch.round(torch.sigmoid(output))"
      ],
      "execution_count": null,
      "outputs": [
        {
          "output_type": "execute_result",
          "data": {
            "text/plain": [
              "tensor([[0.],\n",
              "        [0.],\n",
              "        [0.],\n",
              "        [0.],\n",
              "        [0.],\n",
              "        [0.],\n",
              "        [0.],\n",
              "        [0.],\n",
              "        [0.],\n",
              "        [0.],\n",
              "        [0.],\n",
              "        [0.],\n",
              "        [0.],\n",
              "        [0.],\n",
              "        [0.],\n",
              "        [0.],\n",
              "        [0.],\n",
              "        [0.],\n",
              "        [0.],\n",
              "        [0.],\n",
              "        [0.],\n",
              "        [0.],\n",
              "        [0.],\n",
              "        [0.],\n",
              "        [0.],\n",
              "        [0.],\n",
              "        [0.],\n",
              "        [0.],\n",
              "        [0.],\n",
              "        [0.],\n",
              "        [0.],\n",
              "        [0.],\n",
              "        [0.],\n",
              "        [0.],\n",
              "        [0.],\n",
              "        [0.],\n",
              "        [0.],\n",
              "        [0.],\n",
              "        [0.],\n",
              "        [0.],\n",
              "        [0.],\n",
              "        [0.],\n",
              "        [0.],\n",
              "        [0.],\n",
              "        [0.],\n",
              "        [0.],\n",
              "        [0.],\n",
              "        [0.],\n",
              "        [0.],\n",
              "        [0.],\n",
              "        [0.],\n",
              "        [0.],\n",
              "        [0.],\n",
              "        [0.],\n",
              "        [0.],\n",
              "        [0.],\n",
              "        [0.],\n",
              "        [0.],\n",
              "        [0.],\n",
              "        [0.],\n",
              "        [0.],\n",
              "        [0.],\n",
              "        [0.],\n",
              "        [0.]], device='cuda:0', grad_fn=<RoundBackward>)"
            ]
          },
          "metadata": {
            "tags": []
          },
          "execution_count": 12
        }
      ]
    },
    {
      "cell_type": "code",
      "metadata": {
        "colab": {
          "base_uri": "https://localhost:8080/"
        },
        "id": "66_8uIs3u3j9",
        "outputId": "5d77dc6b-fc2d-4440-c40c-6b874701c994"
      },
      "source": [
        "label"
      ],
      "execution_count": null,
      "outputs": [
        {
          "output_type": "execute_result",
          "data": {
            "text/plain": [
              "tensor([0, 1, 1, 1, 0, 1, 1, 1, 1, 0, 1, 1, 1, 1, 1, 0, 0, 1, 1, 0, 1, 0, 0, 1,\n",
              "        1, 1, 1, 0, 0, 1, 0, 1, 1, 0, 1, 1, 1, 1, 1, 1, 1, 0, 1, 1, 1, 1, 1, 1,\n",
              "        1, 1, 1, 0, 1, 1, 0, 1, 1, 1, 1, 0, 1, 1, 1, 1], device='cuda:0')"
            ]
          },
          "metadata": {
            "tags": []
          },
          "execution_count": 13
        }
      ]
    },
    {
      "cell_type": "code",
      "metadata": {
        "colab": {
          "base_uri": "https://localhost:8080/"
        },
        "id": "w1sRlGueu_Cn",
        "outputId": "2303b670-3922-4edb-f132-1665716c9d65"
      },
      "source": [
        "label.unsqueeze(1)"
      ],
      "execution_count": null,
      "outputs": [
        {
          "output_type": "execute_result",
          "data": {
            "text/plain": [
              "tensor([[0],\n",
              "        [1],\n",
              "        [1],\n",
              "        [1],\n",
              "        [0],\n",
              "        [1],\n",
              "        [1],\n",
              "        [1],\n",
              "        [1],\n",
              "        [0],\n",
              "        [1],\n",
              "        [1],\n",
              "        [1],\n",
              "        [1],\n",
              "        [1],\n",
              "        [0],\n",
              "        [0],\n",
              "        [1],\n",
              "        [1],\n",
              "        [0],\n",
              "        [1],\n",
              "        [0],\n",
              "        [0],\n",
              "        [1],\n",
              "        [1],\n",
              "        [1],\n",
              "        [1],\n",
              "        [0],\n",
              "        [0],\n",
              "        [1],\n",
              "        [0],\n",
              "        [1],\n",
              "        [1],\n",
              "        [0],\n",
              "        [1],\n",
              "        [1],\n",
              "        [1],\n",
              "        [1],\n",
              "        [1],\n",
              "        [1],\n",
              "        [1],\n",
              "        [0],\n",
              "        [1],\n",
              "        [1],\n",
              "        [1],\n",
              "        [1],\n",
              "        [1],\n",
              "        [1],\n",
              "        [1],\n",
              "        [1],\n",
              "        [1],\n",
              "        [0],\n",
              "        [1],\n",
              "        [1],\n",
              "        [0],\n",
              "        [1],\n",
              "        [1],\n",
              "        [1],\n",
              "        [1],\n",
              "        [0],\n",
              "        [1],\n",
              "        [1],\n",
              "        [1],\n",
              "        [1]], device='cuda:0')"
            ]
          },
          "metadata": {
            "tags": []
          },
          "execution_count": 14
        }
      ]
    },
    {
      "cell_type": "code",
      "metadata": {
        "id": "Up38x6BFuz_z"
      },
      "source": [
        "#loss = criterion(output, label)"
      ],
      "execution_count": null,
      "outputs": []
    },
    {
      "cell_type": "code",
      "metadata": {
        "colab": {
          "base_uri": "https://localhost:8080/"
        },
        "id": "9RmVMI65vGZC",
        "outputId": "e1fac0bf-e3f1-4652-c6ae-e6983d909c8e"
      },
      "source": [
        "loss = criterion(output, label.unsqueeze(1).float())\n",
        "loss"
      ],
      "execution_count": null,
      "outputs": [
        {
          "output_type": "execute_result",
          "data": {
            "text/plain": [
              "tensor(0.8649, device='cuda:0', grad_fn=<BinaryCrossEntropyWithLogitsBackward>)"
            ]
          },
          "metadata": {
            "tags": []
          },
          "execution_count": 16
        }
      ]
    },
    {
      "cell_type": "markdown",
      "metadata": {
        "id": "yA7CCBT7OUts"
      },
      "source": [
        "## 4. Training loop\n",
        "\n",
        "Cosas importantes, invocar model.train() y model.eval() antes de entrar a fase de training y evaluacion del modelo. Eval() desactiva capas Dropout, BatchNorm, etc. que son propias del entrenamiento asi como el calculo de gradientes. \n",
        "\n",
        "Tiempo de entrenamiento: 3 min aprox (en GPU)"
      ]
    },
    {
      "cell_type": "code",
      "metadata": {
        "id": "kQR-v2WvONsL",
        "colab": {
          "base_uri": "https://localhost:8080/"
        },
        "outputId": "7a136a2d-532f-4a12-a5e5-c957a3a08a3c"
      },
      "source": [
        "n_epochs = 10\n",
        "valid_loss_min = np.Inf  # set initial \"min\" to infinity\n",
        "\n",
        "for epoch in range(n_epochs):\n",
        "    # monitor losses\n",
        "    train_loss = 0\n",
        "    valid_loss = 0\n",
        "    \n",
        "    ## Loop de entrenamiento\n",
        "\n",
        "    model.train() # prep model for training\n",
        "    for data, label in dataloaders['train']:\n",
        "\n",
        "        #Correr en GPU\n",
        "        data, label = data.to(device), label.to(device)\n",
        "\n",
        "        # borrar gradientes\n",
        "        optimizer.zero_grad()\n",
        "        # forward pass: calcular predicciones pasando los datos del batch al modelo\n",
        "        output = model(data) \n",
        "        # calcular la perdida mediante la funcion seleccionada\n",
        "        loss = criterion(output, label.unsqueeze(1).float())\n",
        "\n",
        "        # backward pass: calcular el gradiente de la perdida respecto de los parametros\n",
        "        loss.backward()\n",
        "        # actualizar los parametros (ejecutar un paso de optimizacion)\n",
        "        optimizer.step()\n",
        "        # actualizar nuestra perdida de la epoca\n",
        "        train_loss += loss.item() * data.size(0)\n",
        "        \n",
        "    ## Validacion\n",
        "\n",
        "    model.eval()  # prep model for evaluation\n",
        "    for data,label in dataloaders['val']:\n",
        "        #GPU\n",
        "        data, label = data.to(device), label.to(device)\n",
        "\n",
        "        # forward pass: calcular predicciones\n",
        "        output = model(data)\n",
        "\n",
        "        # calcular la perdida\n",
        "        loss = criterion(output, label.unsqueeze(1).float())\n",
        "        \n",
        "        # actualizar perdida de la iteracion\n",
        "        valid_loss = loss.item() * data.size(0)\n",
        "    \n",
        "    train_loss = train_loss / len(dataloaders['train'].sampler)\n",
        "    valid_loss = valid_loss / len(dataloaders['val'].sampler)\n",
        "    \n",
        "    print('Epoch: {} \\tTraining Loss: {:.6f} \\tValidation Loss: {:.6f}'.format(\n",
        "        epoch+1, \n",
        "        train_loss,\n",
        "        valid_loss\n",
        "        ))\n",
        "    \n",
        "    # Guardar modelo si la perdida de validacion disminuye\n",
        "    if valid_loss <= valid_loss_min:\n",
        "        print('Validation loss decreased ({:.6f} --> {:.6f}).  Saving model ...'.format(\n",
        "        valid_loss_min,\n",
        "        valid_loss))\n",
        "        torch.save(model.state_dict(), 'mlp_model_260x.pt')\n",
        "        valid_loss_min = valid_loss\n"
      ],
      "execution_count": null,
      "outputs": [
        {
          "output_type": "stream",
          "text": [
            "Epoch: 1 \tTraining Loss: 0.556557 \tValidation Loss: 0.020705\n",
            "Validation loss decreased (inf --> 0.020705).  Saving model ...\n",
            "Epoch: 2 \tTraining Loss: 0.519921 \tValidation Loss: 0.029678\n",
            "Epoch: 3 \tTraining Loss: 0.498568 \tValidation Loss: 0.029083\n",
            "Epoch: 4 \tTraining Loss: 0.482915 \tValidation Loss: 0.025164\n",
            "Epoch: 5 \tTraining Loss: 0.463523 \tValidation Loss: 0.021809\n",
            "Epoch: 6 \tTraining Loss: 0.450831 \tValidation Loss: 0.022134\n",
            "Epoch: 7 \tTraining Loss: 0.436102 \tValidation Loss: 0.031505\n",
            "Epoch: 8 \tTraining Loss: 0.417378 \tValidation Loss: 0.025942\n",
            "Epoch: 9 \tTraining Loss: 0.395228 \tValidation Loss: 0.027850\n",
            "Epoch: 10 \tTraining Loss: 0.379441 \tValidation Loss: 0.024984\n"
          ],
          "name": "stdout"
        }
      ]
    },
    {
      "cell_type": "markdown",
      "metadata": {
        "id": "8-z-5RWooce9"
      },
      "source": [
        "## 5. Evaluación en Test Set"
      ]
    },
    {
      "cell_type": "code",
      "metadata": {
        "id": "MIBF7XXyOeIE",
        "colab": {
          "base_uri": "https://localhost:8080/"
        },
        "outputId": "f91b635b-4d32-460b-aba1-3da640d964b2"
      },
      "source": [
        "model.load_state_dict(torch.load('mlp_model_260x.pt'))\n",
        "\n",
        "classes = list(range(0,2))\n",
        "\n",
        "# Inicializacion\n",
        "test_loss = 0.0\n",
        "class_correct = list(0. for i in range(10))\n",
        "class_total = list(0. for i in range(10))\n",
        "model.eval() # prep model for evaluation\n",
        "\n",
        "for data, target in dataloaders['test']:\n",
        "    data, target = data.to(device), target.to(device)\n",
        "\n",
        "    output = model(data)\n",
        "    loss = criterion(output, target.unsqueeze(1).float())\n",
        "    test_loss += loss.item()*data.size(0)\n",
        "\n",
        "    # OJO: Convertir output de la red a predicciones\n",
        "    pred = torch.round(torch.sigmoid(output))\n",
        "\n",
        "    # compare predictions to true label\n",
        "    correct = np.squeeze(pred.eq(target.data.view_as(pred)))\n",
        "\n",
        "    # Calcular accuracy por clase\n",
        "    for i in range(len(target)):\n",
        "        label = target.data[i]\n",
        "        class_correct[label] += correct[i].item()\n",
        "        class_total[label] += 1\n",
        "\n",
        "test_loss = test_loss/len(dataloaders['test'].sampler)\n",
        "print('Test Loss: {:.6f}\\n'.format(test_loss))\n",
        "for i in range(2):\n",
        "    if class_total[i] > 0:\n",
        "        print('Test Accuracy of %5s: %2d%% (%2d/%2d)' % (\n",
        "            str(i), 100 * class_correct[i] / class_total[i],\n",
        "            np.sum(class_correct[i]), np.sum(class_total[i])))\n"
      ],
      "execution_count": null,
      "outputs": [
        {
          "output_type": "stream",
          "text": [
            "Test Loss: 0.516190\n",
            "\n",
            "Test Accuracy of     0: 26% (73/278)\n",
            "Test Accuracy of     1: 92% (679/734)\n"
          ],
          "name": "stdout"
        }
      ]
    },
    {
      "cell_type": "code",
      "metadata": {
        "id": "8ehrBZWKYrnA",
        "colab": {
          "base_uri": "https://localhost:8080/"
        },
        "outputId": "b7a1ba3b-f30e-4b86-e553-a63cbf9ee078"
      },
      "source": [
        "(73+679) / (278 + 734)"
      ],
      "execution_count": null,
      "outputs": [
        {
          "output_type": "execute_result",
          "data": {
            "text/plain": [
              "0.7430830039525692"
            ]
          },
          "metadata": {
            "tags": []
          },
          "execution_count": 21
        }
      ]
    },
    {
      "cell_type": "code",
      "metadata": {
        "id": "9uv0D39e48Zw"
      },
      "source": [
        "! cp \"/content/mlp_model_260x.pt\" \"/content/drive/MyDrive/CarpetaImagenes/models/mlp_model_260x.pt\""
      ],
      "execution_count": null,
      "outputs": []
    },
    {
      "cell_type": "code",
      "metadata": {
        "id": "aKoUUh325KPU"
      },
      "source": [
        ""
      ],
      "execution_count": null,
      "outputs": []
    },
    {
      "cell_type": "markdown",
      "metadata": {
        "id": "pICF74nDEc6F"
      },
      "source": [
        "## Referencias\n",
        "\n",
        "Preparacion de dataset\n",
        "\n",
        "https://colab.research.google.com/drive/1k8D9WilBf4NdTIEeZ0ye3E9AS91bsI3H#scrollTo=owx00y4Rx_kj\n",
        "\n",
        "https://colab.research.google.com/drive/1J-mUZGJlnS73PwSPzx79TCCUuLHPITu2?usp=sharing\n",
        "\n",
        "\n",
        "Dataset y dataloader\n",
        "\n",
        "https://towardsdatascience.com/building-efficient-custom-datasets-in-pytorch-2563b946fd9f\n",
        "\n",
        "Modelo simple\n",
        "\n",
        "https://towardsdatascience.com/multilayer-perceptron-for-image-classification-5c1f25738935\n",
        "\n",
        "\n",
        "Un tutorial interesante similar a este\n",
        "\n",
        "[\n",
        "https://colab.research.google.com/github/bentrevett/pytorch-image-classification/blob/master/1_mlp.ipynb#scrollTo=J3VsmcZU4O8I](https://)\n",
        "\n"
      ]
    },
    {
      "cell_type": "code",
      "metadata": {
        "id": "BKNMxtGOEeRE"
      },
      "source": [
        ""
      ],
      "execution_count": null,
      "outputs": []
    }
  ]
}