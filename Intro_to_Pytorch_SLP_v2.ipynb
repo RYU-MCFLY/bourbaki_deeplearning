{
  "nbformat": 4,
  "nbformat_minor": 0,
  "metadata": {
    "colab": {
      "name": "Intro to Pytorch SLP v2.ipynb",
      "provenance": [],
      "collapsed_sections": [],
      "mount_file_id": "1UfUffL1FJArBz4EcHLIOexjcbHgX4yXt",
      "authorship_tag": "ABX9TyPEqyEAyOJ4upTfFSdEI4d3",
      "include_colab_link": true
    },
    "kernelspec": {
      "name": "python3",
      "display_name": "Python 3"
    },
    "language_info": {
      "name": "python"
    }
  },
  "cells": [
    {
      "cell_type": "markdown",
      "metadata": {
        "id": "view-in-github",
        "colab_type": "text"
      },
      "source": [
        "<a href=\"https://colab.research.google.com/github/tozanni/bourbaki_deeplearning/blob/main/Intro_to_Pytorch_SLP_v2.ipynb\" target=\"_parent\"><img src=\"https://colab.research.google.com/assets/colab-badge.svg\" alt=\"Open In Colab\"/></a>"
      ]
    },
    {
      "cell_type": "markdown",
      "metadata": {
        "id": "59Ms2YkNYgdc"
      },
      "source": [
        "## Introducción a Pytorch y MLP\n",
        "\n",
        "## I. Perceptron simple\n",
        "\n"
      ]
    },
    {
      "cell_type": "markdown",
      "metadata": {
        "id": "mnFkazonf-yP"
      },
      "source": [
        "### 1. Definición del DataSet\n",
        "\n",
        "Imagenes etiquetadas.\n",
        "\n",
        "https://drive.google.com/drive/folders/1ZrLW2GqO107SggqDAbRn3ThVD95Hwlhr?usp=sharing\n"
      ]
    },
    {
      "cell_type": "code",
      "metadata": {
        "id": "BACzvwE6uAiP"
      },
      "source": [
        "import numpy as np \n",
        "import pandas as pd\n",
        "import os\n",
        "import torch\n",
        "import torch.nn as nn\n",
        "\n",
        "from skimage import io, transform\n",
        "\n",
        "import torchvision\n",
        "import torch.nn.functional as F\n",
        "from torchvision import transforms, utils, datasets\n",
        "\n",
        "import matplotlib.pyplot as plt\n",
        "import time\n",
        "from torch.utils.data import Dataset, DataLoader\n"
      ],
      "execution_count": null,
      "outputs": []
    },
    {
      "cell_type": "code",
      "metadata": {
        "id": "1n9OXJ9KA6Yz"
      },
      "source": [
        "# https://pytorch.org/vision/stable/transforms.html\n",
        "\n",
        "# ToPILImage(): Necesaria para poder aplicar transformaciones de torchvision, importante si se construye Dataset personalizado\n",
        "# Grayscale, reduce la cantidad de canales\n",
        "# Resize: Reduce la dimension \n",
        "# ToTensor: Tensor PIL Image or numpy.ndarray (H x W x C) in the range [0, 255] to a torch.FloatTensor of shape (C x H x W)\n",
        "\n",
        "transform = transforms.Compose([\n",
        "        #transforms.ToPILImage(),\n",
        "        transforms.Grayscale ( num_output_channels=1 ),\n",
        "        transforms.Resize(260),\n",
        "        transforms.ToTensor(),\n",
        "        transforms.Normalize(mean=[0.3451],std=[0.1683])\n",
        "        ])\n",
        "\n",
        "train_data = datasets.ImageFolder('/content/drive/MyDrive/CarpetaImagenes/train/', transform=transform)\n",
        "val_data = datasets.ImageFolder('/content/drive/MyDrive/CarpetaImagenes/val/', transform=transform)\n",
        "test_data = datasets.ImageFolder('/content/drive/MyDrive/CarpetaImagenes/test/', transform=transform)\n",
        "\n",
        "dataloaders = {\n",
        "    'train': DataLoader(train_data, batch_size=16, shuffle=True, num_workers=2),\n",
        "    'val': DataLoader(val_data, batch_size=16, shuffle=True, num_workers=2),\n",
        "    'test': DataLoader(test_data, batch_size=16, shuffle=True, num_workers=2)\n",
        "}\n"
      ],
      "execution_count": null,
      "outputs": []
    },
    {
      "cell_type": "markdown",
      "metadata": {
        "id": "kWKXoHqEmE27"
      },
      "source": [
        "Ahora vamos a ejecutar el dataloader, imprimir la primera imagen. ¿Qué veremos? \n"
      ]
    },
    {
      "cell_type": "code",
      "metadata": {
        "id": "iUzt0W02gAhQ"
      },
      "source": [
        "#Ejercicio, probar con algunos de los siguientes flags\n",
        "\n",
        "#Obtener la primera imagen con iterador\n",
        "dataiter = iter(dataloaders['train'])\n",
        "data, label = dataiter.next()\n",
        "\n",
        "# El shape indica (num_rows, num_cols, num_channels)\n",
        "# Color\n",
        "# torch.Size([1, 260, 260, 3])\n",
        "\n",
        "# Grayscale\n",
        "# torch.Size([1, 260, 260])"
      ],
      "execution_count": null,
      "outputs": []
    },
    {
      "cell_type": "code",
      "metadata": {
        "colab": {
          "base_uri": "https://localhost:8080/"
        },
        "id": "jZLEPniNtfcE",
        "outputId": "f66fbb2d-8b2c-47dd-8ab7-10afbaa6be01"
      },
      "source": [
        "# data nos devuelve una estructura tipo lista con las imagenes en formato tensor y sus etiequetas\n",
        "data\n"
      ],
      "execution_count": null,
      "outputs": [
        {
          "output_type": "execute_result",
          "data": {
            "text/plain": [
              "tensor([[[[-1.3515, -1.3515, -1.3515,  ..., -1.3515, -1.3515, -1.3515],\n",
              "          [-1.3515, -1.3515, -1.3515,  ..., -1.3515, -1.3515, -1.3515],\n",
              "          [-1.3515, -1.3515, -1.3515,  ..., -1.3515, -1.3515, -1.3515],\n",
              "          ...,\n",
              "          [-1.3515, -1.3515, -1.3515,  ..., -1.3515, -1.3515, -1.3515],\n",
              "          [-1.3515, -1.3515, -1.3515,  ..., -1.3515, -1.3515, -1.3515],\n",
              "          [-1.3515, -1.3515, -1.3515,  ..., -1.3515, -1.3515, -1.3515]]],\n",
              "\n",
              "\n",
              "        [[[-1.3515, -1.3515, -1.3515,  ..., -1.3515, -1.3515, -1.3515],\n",
              "          [-1.3515, -1.3515, -1.3515,  ..., -1.3515, -1.3515, -1.3515],\n",
              "          [-1.3515, -1.3515, -1.3515,  ..., -1.3515, -1.3515, -1.3515],\n",
              "          ...,\n",
              "          [-1.3515, -1.3515, -1.3515,  ..., -1.3515, -1.3515, -1.3515],\n",
              "          [-1.3515, -1.3515, -1.3515,  ..., -1.3515, -1.3515, -1.3515],\n",
              "          [-1.3515, -1.3515, -1.3515,  ..., -1.3515, -1.3515, -1.3515]]],\n",
              "\n",
              "\n",
              "        [[[-1.3515, -1.3515, -1.3515,  ..., -1.3515, -1.3515, -1.3515],\n",
              "          [-1.3515, -1.3515, -1.3515,  ..., -1.3515, -1.3515, -1.3515],\n",
              "          [-1.3515, -1.3515, -1.3515,  ..., -1.3515, -1.3515, -1.3515],\n",
              "          ...,\n",
              "          [-1.3515, -1.3515, -1.3515,  ..., -1.3515, -1.3515, -1.3515],\n",
              "          [-1.3515, -1.3515, -1.3515,  ..., -1.3515, -1.3515, -1.3515],\n",
              "          [-1.3515, -1.3515, -1.3515,  ..., -1.3515, -1.3515, -1.3515]]],\n",
              "\n",
              "\n",
              "        ...,\n",
              "\n",
              "\n",
              "        [[[-1.3515, -1.3515, -1.3515,  ..., -1.3515, -1.3515, -1.3515],\n",
              "          [-1.3515, -1.3515, -1.3515,  ..., -1.3515, -1.3515, -1.3515],\n",
              "          [-1.3515, -1.3515, -1.3515,  ..., -1.3515, -1.3515, -1.3515],\n",
              "          ...,\n",
              "          [-1.3515, -1.3515, -1.3515,  ..., -1.3515, -1.3515, -1.3515],\n",
              "          [-1.3515, -1.3515, -1.3515,  ..., -1.3515, -1.3515, -1.3515],\n",
              "          [-1.3515, -1.3515, -1.3515,  ..., -1.3515, -1.3515, -1.3515]]],\n",
              "\n",
              "\n",
              "        [[[-1.3515, -1.3515, -1.3515,  ..., -1.3515, -1.3515, -1.3515],\n",
              "          [-1.3515, -1.3515, -1.3515,  ..., -1.3515, -1.3515, -1.3515],\n",
              "          [-1.3515, -1.3515, -1.3515,  ..., -1.3515, -1.3515, -1.3515],\n",
              "          ...,\n",
              "          [-1.3515, -1.3515, -1.3515,  ..., -1.3515, -1.3515, -1.3515],\n",
              "          [-1.3515, -1.3515, -1.3515,  ..., -1.3515, -1.3515, -1.3515],\n",
              "          [-1.3515, -1.3515, -1.3515,  ..., -1.3515, -1.3515, -1.3515]]],\n",
              "\n",
              "\n",
              "        [[[-1.3515, -1.3515, -1.3515,  ..., -1.3515, -1.3515, -1.3515],\n",
              "          [-1.3515, -1.3515, -1.3515,  ..., -1.3515, -1.3515, -1.3515],\n",
              "          [-1.3515, -1.3515, -1.3515,  ..., -1.3515, -1.3515, -1.3515],\n",
              "          ...,\n",
              "          [-1.3515, -1.3515, -1.3515,  ..., -1.3515, -1.3515, -1.3515],\n",
              "          [-1.3515, -1.3515, -1.3515,  ..., -1.3515, -1.3515, -1.3515],\n",
              "          [-1.3515, -1.3515, -1.3515,  ..., -1.3515, -1.3515, -1.3515]]]])"
            ]
          },
          "metadata": {
            "tags": []
          },
          "execution_count": 41
        }
      ]
    },
    {
      "cell_type": "code",
      "metadata": {
        "colab": {
          "base_uri": "https://localhost:8080/",
          "height": 286
        },
        "id": "VoRPO5UtXF63",
        "outputId": "e433daca-fd64-4712-8f30-d1091b304497"
      },
      "source": [
        "plt.imshow(data[0][0][0], cmap='gray')"
      ],
      "execution_count": null,
      "outputs": [
        {
          "output_type": "execute_result",
          "data": {
            "text/plain": [
              "<matplotlib.image.AxesImage at 0x7f9f2f44c790>"
            ]
          },
          "metadata": {
            "tags": []
          },
          "execution_count": 30
        },
        {
          "output_type": "display_data",
          "data": {
            "image/png": "[encoded data removed]",
            "text/plain": [
              "<Figure size 432x288 with 1 Axes>"
            ]
          },
          "metadata": {
            "tags": [],
            "needs_background": "light"
          }
        }
      ]
    },
    {
      "cell_type": "markdown",
      "metadata": {
        "id": "E5qgOjDPjvm3"
      },
      "source": [
        ""
      ]
    },
    {
      "cell_type": "code",
      "metadata": {
        "id": "sacEUotRM2Qc",
        "colab": {
          "base_uri": "https://localhost:8080/",
          "height": 286
        },
        "outputId": "9ebfac8d-0a53-48f4-d289-6a48c87f729f"
      },
      "source": [
        "plt.imshow(data[0][1][0], cmap='gray')"
      ],
      "execution_count": null,
      "outputs": [
        {
          "output_type": "execute_result",
          "data": {
            "text/plain": [
              "<matplotlib.image.AxesImage at 0x7f9f2f433c90>"
            ]
          },
          "metadata": {
            "tags": []
          },
          "execution_count": 31
        },
        {
          "output_type": "display_data",
          "data": {
            "image/png": "[encoded data removed]",
            "text/plain": [
              "<Figure size 432x288 with 1 Axes>"
            ]
          },
          "metadata": {
            "tags": [],
            "needs_background": "light"
          }
        }
      ]
    },
    {
      "cell_type": "markdown",
      "metadata": {
        "id": "wcLJPw3TWT2X"
      },
      "source": [
        "## Normalizacion de imagenes del dataset (Paso previo)\n",
        "\n",
        "Este proceso lo hice antes de correr todo, para poder obtener la media y la desviacion estandar del dataset.\n"
      ]
    },
    {
      "cell_type": "code",
      "metadata": {
        "colab": {
          "base_uri": "https://localhost:8080/",
          "height": 69
        },
        "id": "lSgbVuJAU2Gn",
        "outputId": "00fb4fe0-44ff-4da8-9fee-afd6649b50e6"
      },
      "source": [
        "\"\"\"\n",
        "mean = 0.0\n",
        "for images, _ in dataloaders['train']:\n",
        "    batch_samples = images.size(0) \n",
        "    images = images.view(batch_samples, images.size(1), -1)\n",
        "    mean += images.mean(2).sum(0)\n",
        "mean = mean / len(dataloaders['train'].dataset)\n",
        "\n",
        "var = 0.0\n",
        "for images, _ in dataloaders['train']:\n",
        "    batch_samples = images.size(0)\n",
        "    images = images.view(batch_samples, images.size(1), -1)\n",
        "    var += ((images - mean.unsqueeze(1))**2).sum([0,2])\n",
        "std = torch.sqrt(var / (len(dataloaders['train'].dataset)*260*260))\n",
        "\n",
        "mean, std\n",
        "\n",
        "# (tensor([0.3451]), tensor([0.1683]))\n",
        "\"\"\""
      ],
      "execution_count": null,
      "outputs": [
        {
          "output_type": "execute_result",
          "data": {
            "application/vnd.google.colaboratory.intrinsic+json": {
              "type": "string"
            },
            "text/plain": [
              "\"\\nmean = 0.0\\nfor images, _ in dataloaders['train']:\\n    batch_samples = images.size(0) \\n    images = images.view(batch_samples, images.size(1), -1)\\n    mean += images.mean(2).sum(0)\\nmean = mean / len(dataloaders['train'].dataset)\\n\\nvar = 0.0\\nfor images, _ in dataloaders['train']:\\n    batch_samples = images.size(0)\\n    images = images.view(batch_samples, images.size(1), -1)\\n    var += ((images - mean.unsqueeze(1))**2).sum([0,2])\\nstd = torch.sqrt(var / (len(dataloaders['train'].dataset)*260*260))\\n\\nmean, std\\n\\n# (tensor([0.3451]), tensor([0.1683]))\\n\""
            ]
          },
          "metadata": {
            "tags": []
          },
          "execution_count": 8
        }
      ]
    },
    {
      "cell_type": "markdown",
      "metadata": {
        "id": "LPwKSwMkNuuS"
      },
      "source": [
        "## 2. Inicializar la Red (Perceptron simple)\n",
        "\n",
        "La función de activación del perceptrón será la transformación lineal de los pesos.\n",
        "\n",
        "$$ y = xW^T + b $$\n",
        "\n",
        "En algunos casos cuando se trabaja clasificación binaria se utiliza adicionalmente una función Sigmoidal para implementar la clasificación dentro de la red, de tal forma que el output de la misma se encuentre acotado entre 0 y 1. \n",
        "\n",
        "Este paso no es estrictamente necesario y de hecho hay algunas ventajas computacionales de no hacerlo así y con un poco de ayuda de la función de pérdida. \n"
      ]
    },
    {
      "cell_type": "code",
      "metadata": {
        "id": "dWo06PxINxw8",
        "colab": {
          "base_uri": "https://localhost:8080/"
        },
        "outputId": "9983d423-8b08-4ed0-de85-9017699a3f9b"
      },
      "source": [
        "import torch.nn as nn\n",
        "import torch.nn.functional as F\n",
        "\n",
        "class Perceptron(nn.Module):\n",
        "    def __init__(self):\n",
        "        super(Perceptron,self).__init__()\n",
        "        self.linear = nn.Linear(260*260, 1)\n",
        "\n",
        "    def forward(self,x):\n",
        "        # Imagen aplanada en 1D\n",
        "        x = x.view(-1,260*260)\n",
        "\n",
        "        #Devolver directamente la salida de la capa linear\n",
        "        y_pred = self.linear(x)\n",
        "\n",
        "        #vs. ojo:\n",
        "        #y_pred = self.sigmoid(y_pred)\n",
        "        return y_pred\n",
        "\n",
        "model = Perceptron()\n",
        "print(model)"
      ],
      "execution_count": null,
      "outputs": [
        {
          "output_type": "stream",
          "text": [
            "Perceptron(\n",
            "  (linear): Linear(in_features=67600, out_features=1, bias=True)\n",
            ")\n"
          ],
          "name": "stdout"
        }
      ]
    },
    {
      "cell_type": "markdown",
      "metadata": {
        "id": "hWWWZR2ooQMJ"
      },
      "source": [
        "## 3. Funcion de pérdida o costo\n",
        "\n",
        "La función de pérdida debe corresponder a dos cosas:\n",
        "\n",
        "1.   El tipo de problema que estamos resolviendo (clasificación o regresión)\n",
        "2.   El tipo de output de la última capa de nuestra red.\n",
        "\n",
        "BCEWithLogitsLoss permite recibir input en -inf, inf. Internamente aplica la función sigmoidal con la ventaja adicional que permite establecer pesos a las clases.\n",
        "\n",
        "https://pytorch.org/docs/stable/generated/torch.nn.BCEWithLogitsLoss.html\n",
        "\n",
        "Desde el punto de vista computacional BCEWithLogitsLoss ofrece mejor protección contra el problema de underflow o vanishing gradient (no es la única forma de cuidarse de este fenómeno, hay que decirlo también)\n",
        "\n",
        "https://discuss.pytorch.org/t/targets-between-0-and-1-in-torch-nn-bceloss/105819/2\n"
      ]
    },
    {
      "cell_type": "markdown",
      "metadata": {
        "id": "p8Ofv4fYLbvB"
      },
      "source": [
        "\n",
        "\n",
        "\n"
      ]
    },
    {
      "cell_type": "code",
      "metadata": {
        "id": "mN54fJj7OIdr"
      },
      "source": [
        "# Funcion de perdida (usamos BCELoss para clasificador binario si viene la Sigmoid, BCELogit en caso de ser otro tipo de salida )\n",
        "\n",
        "# CrossEntropy si el clasificador es multiclase.\n",
        "# criterion = nn.BCELoss() \n",
        "criterion = nn.BCEWithLogitsLoss()\n",
        "\n",
        "# specify optimizer (stochastic gradient descent) and learning rate = 0.01\n",
        "optimizer = torch.optim.SGD(model.parameters(),lr = 0.1)"
      ],
      "execution_count": null,
      "outputs": []
    },
    {
      "cell_type": "markdown",
      "metadata": {
        "id": "XS97ZcB2oOqk"
      },
      "source": [
        ""
      ]
    },
    {
      "cell_type": "markdown",
      "metadata": {
        "id": "yA7CCBT7OUts"
      },
      "source": [
        "## 4. Training loop"
      ]
    },
    {
      "cell_type": "code",
      "metadata": {
        "id": "kQR-v2WvONsL",
        "colab": {
          "base_uri": "https://localhost:8080/"
        },
        "outputId": "11a4153a-1a01-4703-d735-7ed8b14f88d4"
      },
      "source": [
        "n_epochs = 10\n",
        "valid_loss_min = np.Inf  # set initial \"min\" to infinity\n",
        "\n",
        "for epoch in range(n_epochs):\n",
        "    # monitor losses\n",
        "    train_loss = 0\n",
        "    valid_loss = 0\n",
        "    \n",
        "    ## Loop de entrenamiento\n",
        "    model.train() \n",
        "    for data, label in dataloaders['train']:\n",
        "        # borrar gradientes\n",
        "        optimizer.zero_grad()\n",
        "        # forward pass: calcular predicciones pasando los datos del batch al modelo\n",
        "        output = model(data) \n",
        "        # calcular la perdida mediante la funcion seleccionada\n",
        "        # ojo, requerimos el unsquezze \n",
        "        target = label.unsqueeze(1).float()\n",
        "        loss = criterion(output, target)\n",
        "\n",
        "        # backward pass: calcular el gradiente de la perdida respecto de los parametros\n",
        "        loss.backward()\n",
        "        \n",
        "        # actualizar los parametros (ejecutar un paso de optimizacion)\n",
        "        optimizer.step()\n",
        "        \n",
        "        # actualizar nuestra perdida de la epoca\n",
        "        train_loss += loss.item() * data.size(0)\n",
        "        \n",
        "    ## Evaluacion / Validacion\n",
        "    model.eval()  \n",
        "    for data,label in dataloaders['val']:\n",
        "        # forward pass\n",
        "        output = model(data)\n",
        "        target = label.unsqueeze(1).float()\n",
        "        loss = criterion(output,target)\n",
        "        valid_loss = loss.item() * data.size(0)\n",
        "    \n",
        "    # Calcular la perdida promedio por epoca\n",
        "    train_loss = train_loss / len(dataloaders['train'].sampler)\n",
        "    valid_loss = valid_loss / len(dataloaders['val'].sampler)\n",
        "    \n",
        "    print('Epoch: {} \\tTraining Loss: {:.6f} \\tValidation Loss: {:.6f}'.format(\n",
        "        epoch+1, \n",
        "        train_loss,\n",
        "        valid_loss\n",
        "        ))\n",
        "    \n",
        "    # Guardar modelo si la perdida de validacion disminuye\n",
        "    if valid_loss <= valid_loss_min:\n",
        "        print('Validation loss decreased ({:.6f} --> {:.6f}).  Saving model ...'.format(\n",
        "        valid_loss_min,\n",
        "        valid_loss))\n",
        "        torch.save(model.state_dict(), 'slp_model_260x.pt')\n",
        "        valid_loss_min = valid_loss\n"
      ],
      "execution_count": null,
      "outputs": [
        {
          "output_type": "stream",
          "text": [
            "Epoch: 1 \tTraining Loss: 101.584294 \tValidation Loss: 0.185964\n",
            "Validation loss decreased (inf --> 0.185964).  Saving model ...\n",
            "Epoch: 2 \tTraining Loss: 84.861806 \tValidation Loss: 0.000000\n",
            "Validation loss decreased (0.185964 --> 0.000000).  Saving model ...\n",
            "Epoch: 3 \tTraining Loss: 71.830731 \tValidation Loss: 0.645769\n",
            "Epoch: 4 \tTraining Loss: 54.191871 \tValidation Loss: 0.000000\n",
            "Validation loss decreased (0.000000 --> 0.000000).  Saving model ...\n",
            "Epoch: 5 \tTraining Loss: 45.003251 \tValidation Loss: 0.000000\n",
            "Validation loss decreased (0.000000 --> 0.000000).  Saving model ...\n",
            "Epoch: 6 \tTraining Loss: 41.214523 \tValidation Loss: 0.435169\n",
            "Epoch: 7 \tTraining Loss: 37.414631 \tValidation Loss: 0.481856\n",
            "Epoch: 8 \tTraining Loss: 34.617728 \tValidation Loss: 0.000000\n",
            "Validation loss decreased (0.000000 --> 0.000000).  Saving model ...\n",
            "Epoch: 9 \tTraining Loss: 32.260184 \tValidation Loss: 0.198003\n",
            "Epoch: 10 \tTraining Loss: 23.780276 \tValidation Loss: 0.000000\n",
            "Validation loss decreased (0.000000 --> 0.000000).  Saving model ...\n"
          ],
          "name": "stdout"
        }
      ]
    },
    {
      "cell_type": "code",
      "metadata": {
        "id": "5ybocgJIa8-e"
      },
      "source": [
        "! cp \"/content/slp_model_260x.pt\" \"/content/drive/MyDrive/CarpetaImagenes/models/slp_model_260x.pt\""
      ],
      "execution_count": null,
      "outputs": []
    },
    {
      "cell_type": "markdown",
      "metadata": {
        "id": "TgZahXYRDSke"
      },
      "source": [
        "## 5. Evaluacion final de modelo en Test Set\n"
      ]
    },
    {
      "cell_type": "code",
      "metadata": {
        "id": "MIBF7XXyOeIE",
        "colab": {
          "base_uri": "https://localhost:8080/"
        },
        "outputId": "36ace482-75e0-4122-e797-00b7920cf733"
      },
      "source": [
        "# Cargar el modelo con la menor validation loss\n",
        "model.load_state_dict(torch.load('slp_model_260x.pt'))\n",
        "\n",
        "# model.load_state_dict(torch.load('mlp_model.pt'))\n",
        "classes = list(range(0,10))\n",
        "\n",
        "# Inicializacion\n",
        "test_loss = 0.0\n",
        "class_correct = list(0. for i in range(10))\n",
        "class_total = list(0. for i in range(10))\n",
        "model.eval() \n",
        "\n",
        "for data, target in dataloaders['test']:\n",
        "    # calcular predicciones (valor continuo)\n",
        "    output = model(data)\n",
        "\n",
        "    # calcular la perdida del batch\n",
        "    loss = criterion(output, target.unsqueeze(1).float())\n",
        "\n",
        "    # actualizar perdida total\n",
        "    test_loss += loss.item()*data.size(0)\n",
        "\n",
        "    # Convertir valores a prediccion\n",
        "    pred = torch.round(torch.sigmoid(output))\n",
        "\n",
        "    # compare predictions to true label\n",
        "    correct = np.squeeze(pred.eq(target.data.view_as(pred)))\n",
        "\n",
        "    # Accuracy por clase\n",
        "    for i in range(len(target)):\n",
        "        label = target.data[i]\n",
        "        class_correct[label] += correct[i].item()\n",
        "        class_total[label] += 1\n",
        "\n",
        "# Estadisticas\n",
        "test_loss = test_loss/len(dataloaders['test'].sampler)\n",
        "print('Test Loss: {:.6f}\\n'.format(test_loss))\n",
        "for i in range(2):\n",
        "    if class_total[i] > 0:\n",
        "        print('Test Accuracy of %5s: %2d%% (%2d/%2d)' % (\n",
        "            str(i), 100 * class_correct[i] / class_total[i],\n",
        "            np.sum(class_correct[i]), np.sum(class_total[i])))\n"
      ],
      "execution_count": null,
      "outputs": [
        {
          "output_type": "stream",
          "text": [
            "Test Loss: 37.965894\n",
            "\n",
            "Test Accuracy of     0: 53% (148/278)\n",
            "Test Accuracy of     1: 94% (690/734)\n"
          ],
          "name": "stdout"
        }
      ]
    },
    {
      "cell_type": "code",
      "metadata": {
        "id": "9uv0D39e48Zw"
      },
      "source": [
        "! cp \"/content/slp_model_260x.pt\" \"/content/drive/MyDrive/CarpetaImagenes/models/slp_model_260x.pt\""
      ],
      "execution_count": null,
      "outputs": []
    },
    {
      "cell_type": "code",
      "metadata": {
        "id": "0DqCG2i3jjvB",
        "colab": {
          "base_uri": "https://localhost:8080/"
        },
        "outputId": "1704d285-3199-4d8e-a5a7-01268fbec701"
      },
      "source": [
        "(148 + 690) / (278 + 734)"
      ],
      "execution_count": null,
      "outputs": [
        {
          "output_type": "execute_result",
          "data": {
            "text/plain": [
              "0.8280632411067194"
            ]
          },
          "metadata": {
            "tags": []
          },
          "execution_count": 39
        }
      ]
    },
    {
      "cell_type": "code",
      "metadata": {
        "colab": {
          "base_uri": "https://localhost:8080/"
        },
        "id": "V07xx2EbqMpX",
        "outputId": "715267b4-0e59-4a6b-aeff-3426ef746a1e"
      },
      "source": [
        "pos_weight = 278 / 734\n",
        "pos_weight"
      ],
      "execution_count": null,
      "outputs": [
        {
          "output_type": "execute_result",
          "data": {
            "text/plain": [
              "0.3787465940054496"
            ]
          },
          "metadata": {
            "tags": []
          },
          "execution_count": 43
        }
      ]
    },
    {
      "cell_type": "code",
      "metadata": {
        "id": "0csc3vSA6K3_"
      },
      "source": [
        ""
      ],
      "execution_count": null,
      "outputs": []
    },
    {
      "cell_type": "markdown",
      "metadata": {
        "id": "yvZCvWL6G_VD"
      },
      "source": [
        "## Bonus trivia\n",
        "\n",
        "¿Por qué el Perceptron de SkLearn da mejores resultados que este?\n",
        "\n",
        "Tip:\n",
        "\n",
        "https://github.com/scikit-learn/scikit-learn/blob/e4ef854d031854932b7165d55bfd04a400af6b85/sklearn/linear_model/_stochastic_gradient.py#L509\n",
        "\n",
        "\n",
        "\n",
        "\n",
        "## Referencias\n",
        "\n",
        "Preparacion de dataset\n",
        "\n",
        "https://colab.research.google.com/drive/1k8D9WilBf4NdTIEeZ0ye3E9AS91bsI3H#scrollTo=owx00y4Rx_kj\n",
        "\n",
        "Referencias\n",
        "\n",
        "Dataset y dataloader\n",
        "\n",
        "https://towardsdatascience.com/building-efficient-custom-datasets-in-pytorch-2563b946fd9f\n",
        "\n",
        "Modelo simple\n",
        "\n",
        "https://towardsdatascience.com/multilayer-perceptron-for-image-classification-5c1f25738935\n",
        "\n"
      ]
    },
    {
      "cell_type": "code",
      "metadata": {
        "id": "vNnJbn7qHJFu"
      },
      "source": [
        ""
      ],
      "execution_count": null,
      "outputs": []
    }
  ]
}