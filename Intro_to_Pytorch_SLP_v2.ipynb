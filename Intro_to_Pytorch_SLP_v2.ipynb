{
  "nbformat": 4,
  "nbformat_minor": 0,
  "metadata": {
    "colab": {
      "name": "Intro to Pytorch SLP v2.ipynb",
      "provenance": [],
      "collapsed_sections": [],
      "mount_file_id": "https://github.com/tozanni/bourbaki_deeplearning/blob/main/Intro_to_Pytorch_SLP_v2.ipynb",
      "authorship_tag": "ABX9TyP2NcqrIkFoRuZszdNrq0LW",
      "include_colab_link": true
    },
    "kernelspec": {
      "name": "python3",
      "display_name": "Python 3"
    },
    "language_info": {
      "name": "python"
    }
  },
  "cells": [
    {
      "cell_type": "markdown",
      "metadata": {
        "id": "view-in-github",
        "colab_type": "text"
      },
      "source": [
        "<a href=\"https://colab.research.google.com/github/tozanni/bourbaki_deeplearning/blob/main/Intro_to_Pytorch_SLP_v2.ipynb\" target=\"_parent\"><img src=\"https://colab.research.google.com/assets/colab-badge.svg\" alt=\"Open In Colab\"/></a>"
      ]
    },
    {
      "cell_type": "markdown",
      "metadata": {
        "id": "59Ms2YkNYgdc"
      },
      "source": [
        "## Introducción a Pytorch y MLP\n",
        "\n",
        "## I. Perceptron simple\n",
        "\n"
      ]
    },
    {
      "cell_type": "markdown",
      "metadata": {
        "id": "mnFkazonf-yP"
      },
      "source": [
        "### 1. Definición del DataSet\n",
        "\n",
        "Imagenes etiquetadas.\n",
        "\n",
        "https://drive.google.com/drive/folders/1ZrLW2GqO107SggqDAbRn3ThVD95Hwlhr?usp=sharing\n"
      ]
    },
    {
      "cell_type": "code",
      "metadata": {
        "id": "BACzvwE6uAiP"
      },
      "source": [
        "import numpy as np \n",
        "import pandas as pd\n",
        "import os\n",
        "import torch\n",
        "import torch.nn as nn\n",
        "\n",
        "from skimage import io, transform\n",
        "\n",
        "import torchvision\n",
        "import torch.nn.functional as F\n",
        "from torchvision import transforms, utils, datasets\n",
        "\n",
        "import matplotlib.pyplot as plt\n",
        "import time\n",
        "from torch.utils.data import Dataset, DataLoader\n"
      ],
      "execution_count": 1,
      "outputs": []
    },
    {
      "cell_type": "code",
      "metadata": {
        "id": "1n9OXJ9KA6Yz"
      },
      "source": [
        "# https://pytorch.org/vision/stable/transforms.html\n",
        "\n",
        "# ToPILImage(): Necesaria para poder aplicar transformaciones de torchvision, importante si se construye Dataset personalizado\n",
        "# Grayscale, reduce la cantidad de canales\n",
        "# Resize: Reduce la dimension \n",
        "# ToTensor: Tensor PIL Image or numpy.ndarray (H x W x C) in the range [0, 255] to a torch.FloatTensor of shape (C x H x W)\n",
        "\n",
        "transform = transforms.Compose([\n",
        "        #transforms.ToPILImage(),\n",
        "        transforms.Grayscale ( num_output_channels=1 ),\n",
        "        transforms.Resize(260),\n",
        "        transforms.ToTensor(),\n",
        "        transforms.Normalize(mean=[0.3451],std=[0.1683])\n",
        "        ])\n",
        "\n",
        "train_data = datasets.ImageFolder('/content/drive/MyDrive/CarpetaImagenes/train/', transform=transform)\n",
        "val_data = datasets.ImageFolder('/content/drive/MyDrive/CarpetaImagenes/val/', transform=transform)\n",
        "test_data = datasets.ImageFolder('/content/drive/MyDrive/CarpetaImagenes/test/', transform=transform)\n",
        "\n",
        "dataloaders = {\n",
        "    'train': DataLoader(train_data, batch_size=16, shuffle=True, num_workers=2),\n",
        "    'val': DataLoader(val_data, batch_size=16, shuffle=True, num_workers=2),\n",
        "    'test': DataLoader(test_data, batch_size=16, shuffle=True, num_workers=2)\n",
        "}\n"
      ],
      "execution_count": 3,
      "outputs": []
    },
    {
      "cell_type": "markdown",
      "metadata": {
        "id": "kWKXoHqEmE27"
      },
      "source": [
        "Ahora vamos a ejecutar el dataloader, imprimir la primera imagen. ¿Qué veremos? \n"
      ]
    },
    {
      "cell_type": "code",
      "metadata": {
        "id": "iUzt0W02gAhQ"
      },
      "source": [
        "#Ejercicio, probar con algunos de los siguientes flags\n",
        "\n",
        "#Obtener la primera imagen con iterador\n",
        "dataiter = iter(dataloaders['train'])\n",
        "data, label = dataiter.next()\n",
        "\n",
        "# El shape indica (num_rows, num_cols, num_channels)\n",
        "# Color\n",
        "# torch.Size([1, 260, 260, 3])\n",
        "\n",
        "# Grayscale\n",
        "# torch.Size([1, 260, 260])"
      ],
      "execution_count": 4,
      "outputs": []
    },
    {
      "cell_type": "code",
      "metadata": {
        "colab": {
          "base_uri": "https://localhost:8080/"
        },
        "id": "jZLEPniNtfcE",
        "outputId": "a6b93aa4-176b-4363-ca45-f24701a55a52"
      },
      "source": [
        "# data nos devuelve una estructura tipo lista con las imagenes en formato tensor y sus etiequetas\n",
        "data.shape\n"
      ],
      "execution_count": 10,
      "outputs": [
        {
          "output_type": "execute_result",
          "data": {
            "text/plain": [
              "torch.Size([16, 1, 260, 260])"
            ]
          },
          "metadata": {},
          "execution_count": 10
        }
      ]
    },
    {
      "cell_type": "code",
      "metadata": {
        "colab": {
          "base_uri": "https://localhost:8080/",
          "height": 287
        },
        "id": "VoRPO5UtXF63",
        "outputId": "1ec24e3d-49cc-436b-aabb-3271d371deda"
      },
      "source": [
        "plt.imshow(data[0][0], cmap='gray')"
      ],
      "execution_count": 7,
      "outputs": [
        {
          "output_type": "execute_result",
          "data": {
            "text/plain": [
              "<matplotlib.image.AxesImage at 0x7f06d809b410>"
            ]
          },
          "metadata": {},
          "execution_count": 7
        },
        {
          "output_type": "display_data",
          "data": {
            "text/plain": [
              "<Figure size 432x288 with 1 Axes>"
            ],
            "image/png": "[encoded data removed]"
          },
          "metadata": {
            "needs_background": "light"
          }
        }
      ]
    },
    {
      "cell_type": "markdown",
      "metadata": {
        "id": "E5qgOjDPjvm3"
      },
      "source": [
        ""
      ]
    },
    {
      "cell_type": "code",
      "metadata": {
        "id": "sacEUotRM2Qc",
        "colab": {
          "base_uri": "https://localhost:8080/",
          "height": 287
        },
        "outputId": "82895dde-5a96-4f5c-94da-4779b269cff7"
      },
      "source": [
        "plt.imshow(data[1][0], cmap='gray')"
      ],
      "execution_count": 9,
      "outputs": [
        {
          "output_type": "execute_result",
          "data": {
            "text/plain": [
              "<matplotlib.image.AxesImage at 0x7f06d80129d0>"
            ]
          },
          "metadata": {},
          "execution_count": 9
        },
        {
          "output_type": "display_data",
          "data": {
            "text/plain": [
              "<Figure size 432x288 with 1 Axes>"
            ],
            "image/png": "[encoded data removed]"
          },
          "metadata": {
            "needs_background": "light"
          }
        }
      ]
    },
    {
      "cell_type": "markdown",
      "metadata": {
        "id": "wcLJPw3TWT2X"
      },
      "source": [
        "## Normalizacion de imagenes del dataset (Paso previo)\n",
        "\n",
        "Este proceso lo hice antes de correr todo, para poder obtener la media y la desviacion estandar del dataset.\n"
      ]
    },
    {
      "cell_type": "code",
      "metadata": {
        "id": "lSgbVuJAU2Gn"
      },
      "source": [
        "\"\"\"\n",
        "mean = 0.0\n",
        "for images, _ in dataloaders['train']:\n",
        "    batch_samples = images.size(0) \n",
        "    images = images.view(batch_samples, images.size(1), -1)\n",
        "    mean += images.mean(2).sum(0)\n",
        "mean = mean / len(dataloaders['train'].dataset)\n",
        "\n",
        "var = 0.0\n",
        "for images, _ in dataloaders['train']:\n",
        "    batch_samples = images.size(0)\n",
        "    images = images.view(batch_samples, images.size(1), -1)\n",
        "    var += ((images - mean.unsqueeze(1))**2).sum([0,2])\n",
        "std = torch.sqrt(var / (len(dataloaders['train'].dataset)*260*260))\n",
        "\n",
        "mean, std\n",
        "\n",
        "# (tensor([0.3451]), tensor([0.1683]))\n",
        "\"\"\""
      ],
      "execution_count": null,
      "outputs": []
    },
    {
      "cell_type": "markdown",
      "metadata": {
        "id": "LPwKSwMkNuuS"
      },
      "source": [
        "## 2. Inicializar la Red (Perceptron simple)\n",
        "\n",
        "La función de activación del perceptrón será la transformación lineal de los pesos.\n",
        "\n",
        "$$ y = xW^T + b $$\n",
        "\n",
        "En algunos casos cuando se trabaja clasificación binaria se utiliza adicionalmente una función Sigmoidal para implementar la clasificación dentro de la red, de tal forma que el output de la misma se encuentre acotado entre 0 y 1. \n",
        "\n",
        "Este paso no es estrictamente necesario y de hecho hay algunas ventajas computacionales de no hacerlo así y con un poco de ayuda de la función de pérdida. \n"
      ]
    },
    {
      "cell_type": "code",
      "metadata": {
        "id": "dWo06PxINxw8",
        "colab": {
          "base_uri": "https://localhost:8080/"
        },
        "outputId": "48450907-5c6a-4a13-b3aa-e115560006cb"
      },
      "source": [
        "import torch.nn as nn\n",
        "import torch.nn.functional as F\n",
        "\n",
        "class Perceptron(nn.Module):\n",
        "    def __init__(self):\n",
        "        super(Perceptron,self).__init__()\n",
        "        self.linear = nn.Linear(260*260, 1)\n",
        "\n",
        "    def forward(self,x):\n",
        "        # Imagen aplanada en 1D\n",
        "        x = x.view(-1,260*260)\n",
        "\n",
        "        #Devolver directamente la salida de la capa linear\n",
        "        y_pred = self.linear(x)\n",
        "\n",
        "        #vs. ojo:\n",
        "        #y_pred = self.sigmoid(y_pred)\n",
        "        return y_pred\n",
        "\n",
        "model = Perceptron()\n",
        "print(model)"
      ],
      "execution_count": 11,
      "outputs": [
        {
          "output_type": "stream",
          "name": "stdout",
          "text": [
            "Perceptron(\n",
            "  (linear): Linear(in_features=67600, out_features=1, bias=True)\n",
            ")\n"
          ]
        }
      ]
    },
    {
      "cell_type": "markdown",
      "metadata": {
        "id": "hWWWZR2ooQMJ"
      },
      "source": [
        "## 3. Funcion de pérdida o costo\n",
        "\n",
        "La función de pérdida debe corresponder a dos cosas:\n",
        "\n",
        "1.   El tipo de problema que estamos resolviendo (clasificación o regresión)\n",
        "2.   El tipo de output de la última capa de nuestra red.\n",
        "\n",
        "BCEWithLogitsLoss permite recibir input en -inf, inf. Internamente aplica la función sigmoidal con la ventaja adicional que permite establecer pesos a las clases.\n",
        "\n",
        "https://pytorch.org/docs/stable/generated/torch.nn.BCEWithLogitsLoss.html\n",
        "\n",
        "Desde el punto de vista computacional BCEWithLogitsLoss ofrece mejor protección contra el problema de underflow o vanishing gradient (no es la única forma de cuidarse de este fenómeno, hay que decirlo también)\n",
        "\n",
        "https://discuss.pytorch.org/t/targets-between-0-and-1-in-torch-nn-bceloss/105819/2\n"
      ]
    },
    {
      "cell_type": "markdown",
      "metadata": {
        "id": "p8Ofv4fYLbvB"
      },
      "source": [
        "\n",
        "\n",
        "\n"
      ]
    },
    {
      "cell_type": "code",
      "metadata": {
        "id": "mN54fJj7OIdr"
      },
      "source": [
        "# Funcion de perdida (usamos BCELoss para clasificador binario si viene la Sigmoid, BCELogit en caso de ser otro tipo de salida )\n",
        "\n",
        "# CrossEntropy si el clasificador es multiclase.\n",
        "# criterion = nn.BCELoss() \n",
        "criterion = nn.BCEWithLogitsLoss()\n",
        "\n",
        "# specify optimizer (stochastic gradient descent) and learning rate = 0.01\n",
        "optimizer = torch.optim.SGD(model.parameters(),lr = 0.1)"
      ],
      "execution_count": 12,
      "outputs": []
    },
    {
      "cell_type": "markdown",
      "metadata": {
        "id": "XS97ZcB2oOqk"
      },
      "source": [
        ""
      ]
    },
    {
      "cell_type": "markdown",
      "metadata": {
        "id": "yA7CCBT7OUts"
      },
      "source": [
        "## 4. Training loop"
      ]
    },
    {
      "cell_type": "code",
      "metadata": {
        "id": "kQR-v2WvONsL",
        "colab": {
          "base_uri": "https://localhost:8080/"
        },
        "outputId": "8679c0d8-fc3d-4686-cbbd-501b86838c10"
      },
      "source": [
        "n_epochs = 10\n",
        "valid_loss_min = np.Inf  # set initial \"min\" to infinity\n",
        "\n",
        "for epoch in range(n_epochs):\n",
        "    # monitor losses\n",
        "    train_loss = 0\n",
        "    valid_loss = 0\n",
        "    \n",
        "    ## Loop de entrenamiento\n",
        "    model.train() \n",
        "    for data, label in dataloaders['train']:\n",
        "        # borrar gradientes\n",
        "        optimizer.zero_grad()\n",
        "        # forward pass: calcular predicciones pasando los datos del batch al modelo\n",
        "        output = model(data) \n",
        "        # calcular la perdida mediante la funcion seleccionada\n",
        "        # ojo, requerimos el unsquezze \n",
        "        target = label.unsqueeze(1).float()\n",
        "        loss = criterion(output, target)\n",
        "\n",
        "        # backward pass: calcular el gradiente de la perdida respecto de los parametros\n",
        "        loss.backward()\n",
        "        \n",
        "        # actualizar los parametros (ejecutar un paso de optimizacion)\n",
        "        optimizer.step()\n",
        "        \n",
        "        # actualizar nuestra perdida de la epoca\n",
        "        train_loss += loss.item() * data.size(0)\n",
        "        \n",
        "    ## Evaluacion / Validacion\n",
        "    model.eval()  \n",
        "    for data,label in dataloaders['val']:\n",
        "        # forward pass\n",
        "        output = model(data)\n",
        "        target = label.unsqueeze(1).float()\n",
        "        loss = criterion(output,target)\n",
        "        valid_loss = loss.item() * data.size(0)\n",
        "    \n",
        "    # Calcular la perdida promedio por epoca\n",
        "    train_loss = train_loss / len(dataloaders['train'].sampler)\n",
        "    valid_loss = valid_loss / len(dataloaders['val'].sampler)\n",
        "    \n",
        "    print('Epoch: {} \\tTraining Loss: {:.6f} \\tValidation Loss: {:.6f}'.format(\n",
        "        epoch+1, \n",
        "        train_loss,\n",
        "        valid_loss\n",
        "        ))\n",
        "    \n",
        "    # Guardar modelo si la perdida de validacion disminuye\n",
        "    if valid_loss <= valid_loss_min:\n",
        "        print('Validation loss decreased ({:.6f} --> {:.6f}).  Saving model ...'.format(\n",
        "        valid_loss_min,\n",
        "        valid_loss))\n",
        "        torch.save(model.state_dict(), 'slp_model_260x.pt')\n",
        "        valid_loss_min = valid_loss\n"
      ],
      "execution_count": 13,
      "outputs": [
        {
          "output_type": "stream",
          "name": "stdout",
          "text": [
            "Epoch: 1 \tTraining Loss: 99.001265 \tValidation Loss: 0.984382\n",
            "Validation loss decreased (inf --> 0.984382).  Saving model ...\n",
            "Epoch: 2 \tTraining Loss: 85.482258 \tValidation Loss: 0.104614\n",
            "Validation loss decreased (0.984382 --> 0.104614).  Saving model ...\n",
            "Epoch: 3 \tTraining Loss: 73.396656 \tValidation Loss: 0.000000\n",
            "Validation loss decreased (0.104614 --> 0.000000).  Saving model ...\n",
            "Epoch: 4 \tTraining Loss: 56.260121 \tValidation Loss: 0.044969\n",
            "Epoch: 5 \tTraining Loss: 56.789344 \tValidation Loss: 0.228903\n",
            "Epoch: 6 \tTraining Loss: 39.352661 \tValidation Loss: 0.000000\n",
            "Validation loss decreased (0.000000 --> 0.000000).  Saving model ...\n",
            "Epoch: 7 \tTraining Loss: 44.023526 \tValidation Loss: 0.159537\n",
            "Epoch: 8 \tTraining Loss: 35.896416 \tValidation Loss: 0.000000\n",
            "Validation loss decreased (0.000000 --> 0.000000).  Saving model ...\n",
            "Epoch: 9 \tTraining Loss: 27.685277 \tValidation Loss: 0.000000\n",
            "Validation loss decreased (0.000000 --> 0.000000).  Saving model ...\n",
            "Epoch: 10 \tTraining Loss: 26.897389 \tValidation Loss: 0.000000\n",
            "Validation loss decreased (0.000000 --> 0.000000).  Saving model ...\n"
          ]
        }
      ]
    },
    {
      "cell_type": "code",
      "metadata": {
        "id": "5ybocgJIa8-e"
      },
      "source": [
        "! cp \"/content/slp_model_260x.pt\" \"/content/drive/MyDrive/CarpetaImagenes/models/slp_model_260x.pt\""
      ],
      "execution_count": null,
      "outputs": []
    },
    {
      "cell_type": "markdown",
      "metadata": {
        "id": "TgZahXYRDSke"
      },
      "source": [
        "## 5. Evaluacion final de modelo en Test Set\n"
      ]
    },
    {
      "cell_type": "code",
      "metadata": {
        "id": "MIBF7XXyOeIE",
        "colab": {
          "base_uri": "https://localhost:8080/"
        },
        "outputId": "86767b56-2bc6-4321-a02c-98e209e0f0d1"
      },
      "source": [
        "# Cargar el modelo con la menor validation loss\n",
        "model.load_state_dict(torch.load('slp_model_260x.pt'))\n",
        "\n",
        "# model.load_state_dict(torch.load('mlp_model.pt'))\n",
        "classes = list(range(0,10))\n",
        "\n",
        "# Inicializacion\n",
        "test_loss = 0.0\n",
        "class_correct = list(0. for i in range(10))\n",
        "class_total = list(0. for i in range(10))\n",
        "model.eval() \n",
        "\n",
        "for data, target in dataloaders['test']:\n",
        "    # calcular predicciones (valor continuo)\n",
        "    output = model(data)\n",
        "\n",
        "    # calcular la perdida del batch\n",
        "    loss = criterion(output, target.unsqueeze(1).float())\n",
        "\n",
        "    # actualizar perdida total\n",
        "    test_loss += loss.item()*data.size(0)\n",
        "\n",
        "    # Convertir valores a prediccion\n",
        "    pred = torch.round(torch.sigmoid(output))\n",
        "\n",
        "    # compare predictions to true label\n",
        "    correct = np.squeeze(pred.eq(target.data.view_as(pred)))\n",
        "\n",
        "    # Accuracy por clase\n",
        "    for i in range(len(target)):\n",
        "        label = target.data[i]\n",
        "        class_correct[label] += correct[i].item()\n",
        "        class_total[label] += 1\n",
        "\n",
        "# Estadisticas\n",
        "test_loss = test_loss/len(dataloaders['test'].sampler)\n",
        "print('Test Loss: {:.6f}\\n'.format(test_loss))\n",
        "for i in range(2):\n",
        "    if class_total[i] > 0:\n",
        "        print('Test Accuracy of %5s: %2d%% (%2d/%2d)' % (\n",
        "            str(i), 100 * class_correct[i] / class_total[i],\n",
        "            np.sum(class_correct[i]), np.sum(class_total[i])))\n"
      ],
      "execution_count": 14,
      "outputs": [
        {
          "output_type": "stream",
          "name": "stdout",
          "text": [
            "Test Loss: 81.868485\n",
            "\n",
            "Test Accuracy of     0: 99% (277/278)\n",
            "Test Accuracy of     1: 53% (395/734)\n"
          ]
        }
      ]
    },
    {
      "cell_type": "code",
      "metadata": {
        "id": "9uv0D39e48Zw"
      },
      "source": [
        "! cp \"/content/slp_model_260x.pt\" \"/content/drive/MyDrive/CarpetaImagenes/models/slp_model_260x.pt\""
      ],
      "execution_count": null,
      "outputs": []
    },
    {
      "cell_type": "code",
      "metadata": {
        "id": "0DqCG2i3jjvB"
      },
      "source": [
        "(148 + 690) / (278 + 734)"
      ],
      "execution_count": null,
      "outputs": []
    },
    {
      "cell_type": "code",
      "metadata": {
        "id": "V07xx2EbqMpX"
      },
      "source": [
        "pos_weight = 278 / 734\n",
        "pos_weight"
      ],
      "execution_count": null,
      "outputs": []
    },
    {
      "cell_type": "code",
      "metadata": {
        "id": "0csc3vSA6K3_"
      },
      "source": [
        ""
      ],
      "execution_count": null,
      "outputs": []
    },
    {
      "cell_type": "markdown",
      "metadata": {
        "id": "yvZCvWL6G_VD"
      },
      "source": [
        "## Bonus trivia\n",
        "\n",
        "¿Por qué el Perceptron de SkLearn da mejores resultados que este?\n",
        "\n",
        "Tip:\n",
        "\n",
        "https://github.com/scikit-learn/scikit-learn/blob/e4ef854d031854932b7165d55bfd04a400af6b85/sklearn/linear_model/_stochastic_gradient.py#L509\n",
        "\n",
        "\n",
        "\n",
        "\n",
        "## Referencias\n",
        "\n",
        "Preparacion de dataset\n",
        "\n",
        "https://colab.research.google.com/drive/1k8D9WilBf4NdTIEeZ0ye3E9AS91bsI3H#scrollTo=owx00y4Rx_kj\n",
        "\n",
        "Referencias\n",
        "\n",
        "Dataset y dataloader\n",
        "\n",
        "https://towardsdatascience.com/building-efficient-custom-datasets-in-pytorch-2563b946fd9f\n",
        "\n",
        "Modelo simple\n",
        "\n",
        "https://towardsdatascience.com/multilayer-perceptron-for-image-classification-5c1f25738935\n",
        "\n"
      ]
    },
    {
      "cell_type": "code",
      "metadata": {
        "id": "vNnJbn7qHJFu"
      },
      "source": [
        ""
      ],
      "execution_count": null,
      "outputs": []
    }
  ]
}